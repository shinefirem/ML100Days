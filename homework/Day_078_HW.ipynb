{
 "cells": [
  {
   "cell_type": "markdown",
   "metadata": {},
   "source": [
    "## Work\n",
    "1. 請嘗試將 preproc_x 替換成以每筆資料的 min/max 進行標準化至 -1 ~ 1 間，再進行訓練\n",
    "2. 請嘗試將 mlp 疊更深 (e.g 5~10 層)，進行訓練後觀察 learning curve 的走勢\n",
    "3. (optional) 請改用 GPU 進行訓練 (如果你有 GPU 的話)，比較使用 CPU 與 GPU 的訓練速度"
   ]
  },
  {
   "cell_type": "code",
   "execution_count": 1,
   "metadata": {},
   "outputs": [
    {
     "data": {
      "text/plain": [
       "'\\nYour code here (optional)\\n確認硬體資源\\n'"
      ]
     },
     "execution_count": 1,
     "metadata": {},
     "output_type": "execute_result"
    }
   ],
   "source": [
    "## \n",
    "\"\"\"\n",
    "Your code here (optional)\n",
    "確認硬體資源\n",
    "\"\"\"\n"
   ]
  },
  {
   "cell_type": "code",
   "execution_count": 2,
   "metadata": {},
   "outputs": [
    {
     "name": "stderr",
     "output_type": "stream",
     "text": [
      "Using TensorFlow backend.\n",
      "D:\\Anaconda\\lib\\site-packages\\tensorflow\\python\\framework\\dtypes.py:526: FutureWarning: Passing (type, 1) or '1type' as a synonym of type is deprecated; in a future version of numpy, it will be understood as (type, (1,)) / '(1,)type'.\n",
      "  _np_qint8 = np.dtype([(\"qint8\", np.int8, 1)])\n",
      "D:\\Anaconda\\lib\\site-packages\\tensorflow\\python\\framework\\dtypes.py:527: FutureWarning: Passing (type, 1) or '1type' as a synonym of type is deprecated; in a future version of numpy, it will be understood as (type, (1,)) / '(1,)type'.\n",
      "  _np_quint8 = np.dtype([(\"quint8\", np.uint8, 1)])\n",
      "D:\\Anaconda\\lib\\site-packages\\tensorflow\\python\\framework\\dtypes.py:528: FutureWarning: Passing (type, 1) or '1type' as a synonym of type is deprecated; in a future version of numpy, it will be understood as (type, (1,)) / '(1,)type'.\n",
      "  _np_qint16 = np.dtype([(\"qint16\", np.int16, 1)])\n",
      "D:\\Anaconda\\lib\\site-packages\\tensorflow\\python\\framework\\dtypes.py:529: FutureWarning: Passing (type, 1) or '1type' as a synonym of type is deprecated; in a future version of numpy, it will be understood as (type, (1,)) / '(1,)type'.\n",
      "  _np_quint16 = np.dtype([(\"quint16\", np.uint16, 1)])\n",
      "D:\\Anaconda\\lib\\site-packages\\tensorflow\\python\\framework\\dtypes.py:530: FutureWarning: Passing (type, 1) or '1type' as a synonym of type is deprecated; in a future version of numpy, it will be understood as (type, (1,)) / '(1,)type'.\n",
      "  _np_qint32 = np.dtype([(\"qint32\", np.int32, 1)])\n",
      "D:\\Anaconda\\lib\\site-packages\\tensorflow\\python\\framework\\dtypes.py:535: FutureWarning: Passing (type, 1) or '1type' as a synonym of type is deprecated; in a future version of numpy, it will be understood as (type, (1,)) / '(1,)type'.\n",
      "  np_resource = np.dtype([(\"resource\", np.ubyte, 1)])\n"
     ]
    }
   ],
   "source": [
    "import os\n",
    "import keras\n",
    "\n",
    "# 請嘗試設定 GPU：os.environ\n"
   ]
  },
  {
   "cell_type": "code",
   "execution_count": 3,
   "metadata": {},
   "outputs": [],
   "source": [
    "train, test = keras.datasets.cifar10.load_data()"
   ]
  },
  {
   "cell_type": "code",
   "execution_count": 7,
   "metadata": {},
   "outputs": [],
   "source": [
    "## 資料前處理\n",
    "\"\"\"\n",
    "Your code here\n",
    "\"\"\"\n",
    "from sklearn.preprocessing import MinMaxScaler\n",
    "\n",
    "scaler = MinMaxScaler((-1, 1))\n",
    "def preproc_x(x, flatten=True):\n",
    "    if flatten:\n",
    "        x = x.reshape((len(x), -1))\n",
    "    x = scaler.fit_transform(x)\n",
    "    return x\n",
    "\n",
    "def preproc_y(y, num_classes=10):\n",
    "    if y.shape[-1] == 1:\n",
    "        y = keras.utils.to_categorical(y, num_classes)\n",
    "    return y   "
   ]
  },
  {
   "cell_type": "code",
   "execution_count": 8,
   "metadata": {},
   "outputs": [
    {
     "data": {
      "text/plain": [
       "(50000, 32, 32, 3)"
      ]
     },
     "execution_count": 8,
     "metadata": {},
     "output_type": "execute_result"
    }
   ],
   "source": [
    "x_train.shape"
   ]
  },
  {
   "cell_type": "code",
   "execution_count": 9,
   "metadata": {},
   "outputs": [],
   "source": [
    "x_train, y_train = train\n",
    "x_test, y_test = test\n",
    "\n",
    "# Preproc the inputs\n",
    "x_train = preproc_x(x_train)\n",
    "x_test = preproc_x(x_test)\n",
    "\n",
    "# Preprc the outputs\n",
    "y_train = preproc_y(y_train)\n",
    "y_test = preproc_y(y_test)"
   ]
  },
  {
   "cell_type": "code",
   "execution_count": 10,
   "metadata": {},
   "outputs": [
    {
     "name": "stdout",
     "output_type": "stream",
     "text": [
      "WARNING:tensorflow:From D:\\Anaconda\\lib\\site-packages\\tensorflow\\python\\ops\\resource_variable_ops.py:435: colocate_with (from tensorflow.python.framework.ops) is deprecated and will be removed in a future version.\n",
      "Instructions for updating:\n",
      "Colocations handled automatically by placer.\n",
      "Model: \"model_1\"\n",
      "_________________________________________________________________\n",
      "Layer (type)                 Output Shape              Param #   \n",
      "=================================================================\n",
      "input_1 (InputLayer)         (None, 3072)              0         \n",
      "_________________________________________________________________\n",
      "hidden_layer1 (Dense)        (None, 512)               1573376   \n",
      "_________________________________________________________________\n",
      "hidden_layer2 (Dense)        (None, 256)               131328    \n",
      "_________________________________________________________________\n",
      "hidden_layer3 (Dense)        (None, 128)               32896     \n",
      "_________________________________________________________________\n",
      "hidden_layer4 (Dense)        (None, 128)               16512     \n",
      "_________________________________________________________________\n",
      "hidden_layer5 (Dense)        (None, 128)               16512     \n",
      "_________________________________________________________________\n",
      "output (Dense)               (None, 10)                1290      \n",
      "=================================================================\n",
      "Total params: 1,771,914\n",
      "Trainable params: 1,771,914\n",
      "Non-trainable params: 0\n",
      "_________________________________________________________________\n"
     ]
    }
   ],
   "source": [
    "\"\"\"Code Here\n",
    "建立你的神經網路\n",
    "\"\"\"\n",
    "def build_mlp(input_shape, output_units=10, num_neurons=[512, 256, 128, 128, 128]):\n",
    "    input_layer = keras.layers.Input(input_shape)\n",
    "    \n",
    "    for i, n_units in enumerate(num_neurons):\n",
    "        if i == 0:\n",
    "            x = keras.layers.Dense(units=n_units, activation=\"relu\", name=\"hidden_layer\"+str(i+1))(input_layer)\n",
    "        else:\n",
    "            x = keras.layers.Dense(units=n_units, activation=\"relu\", name=\"hidden_layer\"+str(i+1))(x)\n",
    "    \n",
    "    out = keras.layers.Dense(units=output_units, activation=\"softmax\", name=\"output\")(x)\n",
    "    \n",
    "    model = keras.models.Model(inputs=[input_layer], outputs=[out])\n",
    "    return model\n",
    "\n",
    "model = build_mlp(input_shape=x_train.shape[1:])\n",
    "model.summary()"
   ]
  },
  {
   "cell_type": "code",
   "execution_count": 11,
   "metadata": {},
   "outputs": [],
   "source": [
    "## 超參數設定\n",
    "LEARNING_RATE = 0.001\n",
    "EPOCHS = 100\n",
    "BATCH_SIZE = 256"
   ]
  },
  {
   "cell_type": "code",
   "execution_count": 12,
   "metadata": {},
   "outputs": [],
   "source": [
    "optimizer = keras.optimizers.Adam(lr=LEARNING_RATE)\n",
    "model.compile(loss=\"categorical_crossentropy\", metrics=[\"accuracy\"], optimizer=optimizer)"
   ]
  },
  {
   "cell_type": "code",
   "execution_count": 13,
   "metadata": {},
   "outputs": [
    {
     "name": "stdout",
     "output_type": "stream",
     "text": [
      "WARNING:tensorflow:From D:\\Anaconda\\lib\\site-packages\\tensorflow\\python\\ops\\math_ops.py:3066: to_int32 (from tensorflow.python.ops.math_ops) is deprecated and will be removed in a future version.\n",
      "Instructions for updating:\n",
      "Use tf.cast instead.\n",
      "Train on 50000 samples, validate on 10000 samples\n",
      "Epoch 1/100\n",
      "50000/50000 [==============================] - 18s 358us/step - loss: 1.7011 - accuracy: 0.3921 - val_loss: 1.5475 - val_accuracy: 0.4540\n",
      "Epoch 2/100\n",
      "50000/50000 [==============================] - 18s 365us/step - loss: 1.4669 - accuracy: 0.4793 - val_loss: 1.4415 - val_accuracy: 0.4941\n",
      "Epoch 3/100\n",
      "50000/50000 [==============================] - 17s 346us/step - loss: 1.3537 - accuracy: 0.5219 - val_loss: 1.4046 - val_accuracy: 0.5038\n",
      "Epoch 4/100\n",
      "50000/50000 [==============================] - 18s 360us/step - loss: 1.2584 - accuracy: 0.5561 - val_loss: 1.3605 - val_accuracy: 0.5213\n",
      "Epoch 5/100\n",
      "50000/50000 [==============================] - 17s 347us/step - loss: 1.1688 - accuracy: 0.5893 - val_loss: 1.3665 - val_accuracy: 0.5242\n",
      "Epoch 6/100\n",
      "50000/50000 [==============================] - 17s 344us/step - loss: 1.0912 - accuracy: 0.6133 - val_loss: 1.3777 - val_accuracy: 0.5308\n",
      "Epoch 7/100\n",
      "50000/50000 [==============================] - 17s 336us/step - loss: 1.0180 - accuracy: 0.6391 - val_loss: 1.3689 - val_accuracy: 0.5326\n",
      "Epoch 8/100\n",
      "50000/50000 [==============================] - 17s 338us/step - loss: 0.9504 - accuracy: 0.6611 - val_loss: 1.4145 - val_accuracy: 0.5321\n",
      "Epoch 9/100\n",
      "50000/50000 [==============================] - 17s 348us/step - loss: 0.8839 - accuracy: 0.6838 - val_loss: 1.3977 - val_accuracy: 0.5372\n",
      "Epoch 10/100\n",
      "50000/50000 [==============================] - 19s 375us/step - loss: 0.8153 - accuracy: 0.7096 - val_loss: 1.5053 - val_accuracy: 0.5346\n",
      "Epoch 11/100\n",
      "50000/50000 [==============================] - 16s 325us/step - loss: 0.7483 - accuracy: 0.7303 - val_loss: 1.5031 - val_accuracy: 0.5291\n",
      "Epoch 12/100\n",
      "50000/50000 [==============================] - 16s 313us/step - loss: 0.6812 - accuracy: 0.7563 - val_loss: 1.5859 - val_accuracy: 0.5272\n",
      "Epoch 13/100\n",
      "50000/50000 [==============================] - 16s 326us/step - loss: 0.6290 - accuracy: 0.7765 - val_loss: 1.6780 - val_accuracy: 0.5315\n",
      "Epoch 14/100\n",
      "50000/50000 [==============================] - 16s 315us/step - loss: 0.5700 - accuracy: 0.7981 - val_loss: 1.7347 - val_accuracy: 0.5334\n",
      "Epoch 15/100\n",
      "50000/50000 [==============================] - 12s 243us/step - loss: 0.5300 - accuracy: 0.8117 - val_loss: 1.8181 - val_accuracy: 0.5334\n",
      "Epoch 16/100\n",
      "50000/50000 [==============================] - 9s 172us/step - loss: 0.4863 - accuracy: 0.8252 - val_loss: 1.9177 - val_accuracy: 0.5377\n",
      "Epoch 17/100\n",
      "50000/50000 [==============================] - 9s 173us/step - loss: 0.4493 - accuracy: 0.8397 - val_loss: 1.9646 - val_accuracy: 0.5342\n",
      "Epoch 18/100\n",
      "50000/50000 [==============================] - 8s 170us/step - loss: 0.4124 - accuracy: 0.8523 - val_loss: 2.0490 - val_accuracy: 0.5305\n",
      "Epoch 19/100\n",
      "50000/50000 [==============================] - 8s 168us/step - loss: 0.3823 - accuracy: 0.8648 - val_loss: 2.1418 - val_accuracy: 0.5377\n",
      "Epoch 20/100\n",
      "50000/50000 [==============================] - 8s 168us/step - loss: 0.3512 - accuracy: 0.8741 - val_loss: 2.2486 - val_accuracy: 0.5267\n",
      "Epoch 21/100\n",
      "50000/50000 [==============================] - 8s 167us/step - loss: 0.3198 - accuracy: 0.8867 - val_loss: 2.3838 - val_accuracy: 0.5305\n",
      "Epoch 22/100\n",
      "50000/50000 [==============================] - 8s 167us/step - loss: 0.3058 - accuracy: 0.8918 - val_loss: 2.3819 - val_accuracy: 0.5355\n",
      "Epoch 23/100\n",
      "50000/50000 [==============================] - 10s 197us/step - loss: 0.2814 - accuracy: 0.9006 - val_loss: 2.4357 - val_accuracy: 0.5308\n",
      "Epoch 24/100\n",
      "50000/50000 [==============================] - 9s 174us/step - loss: 0.2691 - accuracy: 0.9048 - val_loss: 2.5416 - val_accuracy: 0.5288\n",
      "Epoch 25/100\n",
      "50000/50000 [==============================] - 9s 176us/step - loss: 0.2543 - accuracy: 0.9107 - val_loss: 2.6031 - val_accuracy: 0.5342\n",
      "Epoch 26/100\n",
      "50000/50000 [==============================] - 9s 171us/step - loss: 0.2439 - accuracy: 0.9137 - val_loss: 2.7810 - val_accuracy: 0.5221\n",
      "Epoch 27/100\n",
      "50000/50000 [==============================] - 9s 175us/step - loss: 0.2302 - accuracy: 0.9190 - val_loss: 2.8129 - val_accuracy: 0.5280\n",
      "Epoch 28/100\n",
      "50000/50000 [==============================] - 9s 178us/step - loss: 0.2207 - accuracy: 0.9222 - val_loss: 2.8100 - val_accuracy: 0.5303\n",
      "Epoch 29/100\n",
      "50000/50000 [==============================] - 9s 180us/step - loss: 0.2212 - accuracy: 0.9224 - val_loss: 2.7956 - val_accuracy: 0.5349\n",
      "Epoch 30/100\n",
      "50000/50000 [==============================] - 9s 184us/step - loss: 0.1939 - accuracy: 0.9320 - val_loss: 3.0331 - val_accuracy: 0.5270\n",
      "Epoch 31/100\n",
      "50000/50000 [==============================] - 9s 174us/step - loss: 0.1916 - accuracy: 0.9330 - val_loss: 2.9615 - val_accuracy: 0.5244\n",
      "Epoch 32/100\n",
      "50000/50000 [==============================] - 9s 173us/step - loss: 0.1967 - accuracy: 0.9328 - val_loss: 2.9378 - val_accuracy: 0.5249\n",
      "Epoch 33/100\n",
      "50000/50000 [==============================] - 9s 174us/step - loss: 0.1929 - accuracy: 0.9338 - val_loss: 2.9990 - val_accuracy: 0.5287\n",
      "Epoch 34/100\n",
      "50000/50000 [==============================] - 8s 169us/step - loss: 0.1490 - accuracy: 0.9479 - val_loss: 3.2444 - val_accuracy: 0.5335\n",
      "Epoch 35/100\n",
      "50000/50000 [==============================] - 9s 181us/step - loss: 0.1786 - accuracy: 0.9395 - val_loss: 3.1654 - val_accuracy: 0.5311\n",
      "Epoch 36/100\n",
      "50000/50000 [==============================] - 9s 177us/step - loss: 0.1770 - accuracy: 0.9389 - val_loss: 3.0450 - val_accuracy: 0.5327\n",
      "Epoch 37/100\n",
      "50000/50000 [==============================] - 9s 174us/step - loss: 0.1636 - accuracy: 0.9436 - val_loss: 3.1698 - val_accuracy: 0.5254\n",
      "Epoch 38/100\n",
      "50000/50000 [==============================] - 9s 173us/step - loss: 0.1631 - accuracy: 0.9441 - val_loss: 3.1950 - val_accuracy: 0.5290\n",
      "Epoch 39/100\n",
      "50000/50000 [==============================] - 9s 174us/step - loss: 0.1497 - accuracy: 0.9490 - val_loss: 3.1198 - val_accuracy: 0.5259\n",
      "Epoch 40/100\n",
      "50000/50000 [==============================] - 9s 173us/step - loss: 0.1438 - accuracy: 0.9516 - val_loss: 3.3528 - val_accuracy: 0.5207\n",
      "Epoch 41/100\n",
      "50000/50000 [==============================] - 9s 173us/step - loss: 0.1482 - accuracy: 0.9503 - val_loss: 3.3815 - val_accuracy: 0.5258\n",
      "Epoch 42/100\n",
      "50000/50000 [==============================] - 9s 177us/step - loss: 0.1496 - accuracy: 0.9500 - val_loss: 3.1857 - val_accuracy: 0.5344\n",
      "Epoch 43/100\n",
      "50000/50000 [==============================] - 9s 173us/step - loss: 0.1297 - accuracy: 0.9577 - val_loss: 3.2182 - val_accuracy: 0.5295\n",
      "Epoch 44/100\n",
      "50000/50000 [==============================] - 9s 174us/step - loss: 0.1374 - accuracy: 0.9516 - val_loss: 3.4364 - val_accuracy: 0.5226\n",
      "Epoch 45/100\n",
      "50000/50000 [==============================] - 9s 174us/step - loss: 0.1221 - accuracy: 0.9594 - val_loss: 3.4919 - val_accuracy: 0.5297\n",
      "Epoch 46/100\n",
      "50000/50000 [==============================] - 9s 173us/step - loss: 0.1394 - accuracy: 0.9536 - val_loss: 3.3509 - val_accuracy: 0.5348\n",
      "Epoch 47/100\n",
      "50000/50000 [==============================] - 9s 174us/step - loss: 0.1108 - accuracy: 0.9635 - val_loss: 3.4499 - val_accuracy: 0.5247\n",
      "Epoch 48/100\n",
      "50000/50000 [==============================] - 9s 175us/step - loss: 0.1439 - accuracy: 0.9531 - val_loss: 3.4030 - val_accuracy: 0.5362\n",
      "Epoch 49/100\n",
      "50000/50000 [==============================] - 9s 182us/step - loss: 0.1207 - accuracy: 0.9586 - val_loss: 3.4996 - val_accuracy: 0.5235\n",
      "Epoch 50/100\n",
      "50000/50000 [==============================] - 9s 178us/step - loss: 0.1228 - accuracy: 0.9597 - val_loss: 3.5575 - val_accuracy: 0.5259\n",
      "Epoch 51/100\n",
      "50000/50000 [==============================] - 9s 173us/step - loss: 0.1087 - accuracy: 0.9633 - val_loss: 3.5368 - val_accuracy: 0.5308\n",
      "Epoch 52/100\n",
      "50000/50000 [==============================] - 9s 174us/step - loss: 0.1354 - accuracy: 0.9542 - val_loss: 3.4732 - val_accuracy: 0.5297\n",
      "Epoch 53/100\n"
     ]
    },
    {
     "name": "stdout",
     "output_type": "stream",
     "text": [
      "50000/50000 [==============================] - 8s 169us/step - loss: 0.1140 - accuracy: 0.9622 - val_loss: 3.5592 - val_accuracy: 0.5260\n",
      "Epoch 54/100\n",
      "50000/50000 [==============================] - 8s 169us/step - loss: 0.1321 - accuracy: 0.9556 - val_loss: 3.6015 - val_accuracy: 0.5313\n",
      "Epoch 55/100\n",
      "50000/50000 [==============================] - 8s 169us/step - loss: 0.0969 - accuracy: 0.9678 - val_loss: 3.5362 - val_accuracy: 0.5269\n",
      "Epoch 56/100\n",
      "50000/50000 [==============================] - 8s 170us/step - loss: 0.1143 - accuracy: 0.9621 - val_loss: 3.5690 - val_accuracy: 0.5254\n",
      "Epoch 57/100\n",
      "50000/50000 [==============================] - 9s 171us/step - loss: 0.0985 - accuracy: 0.9675 - val_loss: 3.7681 - val_accuracy: 0.5221\n",
      "Epoch 58/100\n",
      "50000/50000 [==============================] - 9s 170us/step - loss: 0.1076 - accuracy: 0.9646 - val_loss: 3.6005 - val_accuracy: 0.5369\n",
      "Epoch 59/100\n",
      "50000/50000 [==============================] - 8s 169us/step - loss: 0.1052 - accuracy: 0.9647 - val_loss: 3.7037 - val_accuracy: 0.5289\n",
      "Epoch 60/100\n",
      "50000/50000 [==============================] - 8s 169us/step - loss: 0.1096 - accuracy: 0.9629 - val_loss: 3.5312 - val_accuracy: 0.5304\n",
      "Epoch 61/100\n",
      "50000/50000 [==============================] - 8s 169us/step - loss: 0.0947 - accuracy: 0.9682 - val_loss: 3.6519 - val_accuracy: 0.5261\n",
      "Epoch 62/100\n",
      "50000/50000 [==============================] - 9s 172us/step - loss: 0.1164 - accuracy: 0.9621 - val_loss: 3.6824 - val_accuracy: 0.5351\n",
      "Epoch 63/100\n",
      "50000/50000 [==============================] - 8s 169us/step - loss: 0.0884 - accuracy: 0.9714 - val_loss: 3.6875 - val_accuracy: 0.5314\n",
      "Epoch 64/100\n",
      "50000/50000 [==============================] - 9s 185us/step - loss: 0.0995 - accuracy: 0.9667 - val_loss: 3.6252 - val_accuracy: 0.5370\n",
      "Epoch 65/100\n",
      "50000/50000 [==============================] - 9s 175us/step - loss: 0.0981 - accuracy: 0.9674 - val_loss: 3.6324 - val_accuracy: 0.5305\n",
      "Epoch 66/100\n",
      "50000/50000 [==============================] - 8s 170us/step - loss: 0.1006 - accuracy: 0.9673 - val_loss: 3.7770 - val_accuracy: 0.5310\n",
      "Epoch 67/100\n",
      "50000/50000 [==============================] - 8s 170us/step - loss: 0.0920 - accuracy: 0.9701 - val_loss: 3.7002 - val_accuracy: 0.5321\n",
      "Epoch 68/100\n",
      "50000/50000 [==============================] - 8s 170us/step - loss: 0.0924 - accuracy: 0.9701 - val_loss: 3.7075 - val_accuracy: 0.5252\n",
      "Epoch 69/100\n",
      "50000/50000 [==============================] - 8s 170us/step - loss: 0.0997 - accuracy: 0.9670 - val_loss: 3.7081 - val_accuracy: 0.5320\n",
      "Epoch 70/100\n",
      "50000/50000 [==============================] - 8s 170us/step - loss: 0.0803 - accuracy: 0.9732 - val_loss: 3.7462 - val_accuracy: 0.5301\n",
      "Epoch 71/100\n",
      "50000/50000 [==============================] - 8s 170us/step - loss: 0.0937 - accuracy: 0.9694 - val_loss: 3.7596 - val_accuracy: 0.5279\n",
      "Epoch 72/100\n",
      "50000/50000 [==============================] - 9s 172us/step - loss: 0.0933 - accuracy: 0.9693 - val_loss: 3.7173 - val_accuracy: 0.5285\n",
      "Epoch 73/100\n",
      "50000/50000 [==============================] - 9s 174us/step - loss: 0.0881 - accuracy: 0.9716 - val_loss: 3.8236 - val_accuracy: 0.5309\n",
      "Epoch 74/100\n",
      "50000/50000 [==============================] - 8s 170us/step - loss: 0.0991 - accuracy: 0.9673 - val_loss: 3.7375 - val_accuracy: 0.5199\n",
      "Epoch 75/100\n",
      "50000/50000 [==============================] - 8s 170us/step - loss: 0.0848 - accuracy: 0.9722 - val_loss: 3.8586 - val_accuracy: 0.5220\n",
      "Epoch 76/100\n",
      "50000/50000 [==============================] - 9s 171us/step - loss: 0.0889 - accuracy: 0.9707 - val_loss: 3.7897 - val_accuracy: 0.5275\n",
      "Epoch 77/100\n",
      "50000/50000 [==============================] - 8s 169us/step - loss: 0.0836 - accuracy: 0.9736 - val_loss: 3.7556 - val_accuracy: 0.5234\n",
      "Epoch 78/100\n",
      "50000/50000 [==============================] - 8s 169us/step - loss: 0.0836 - accuracy: 0.9731 - val_loss: 3.8629 - val_accuracy: 0.5236\n",
      "Epoch 79/100\n",
      "50000/50000 [==============================] - 9s 171us/step - loss: 0.0903 - accuracy: 0.9705 - val_loss: 3.6796 - val_accuracy: 0.5322\n",
      "Epoch 80/100\n",
      "50000/50000 [==============================] - 9s 172us/step - loss: 0.0968 - accuracy: 0.9691 - val_loss: 3.8257 - val_accuracy: 0.5352\n",
      "Epoch 81/100\n",
      "50000/50000 [==============================] - 9s 172us/step - loss: 0.0707 - accuracy: 0.9775 - val_loss: 3.7638 - val_accuracy: 0.5296\n",
      "Epoch 82/100\n",
      "50000/50000 [==============================] - 8s 169us/step - loss: 0.0761 - accuracy: 0.9753 - val_loss: 3.8846 - val_accuracy: 0.5306\n",
      "Epoch 83/100\n",
      "50000/50000 [==============================] - 8s 170us/step - loss: 0.0747 - accuracy: 0.9755 - val_loss: 3.9279 - val_accuracy: 0.5341\n",
      "Epoch 84/100\n",
      "50000/50000 [==============================] - 9s 171us/step - loss: 0.0780 - accuracy: 0.9744 - val_loss: 3.9014 - val_accuracy: 0.5287\n",
      "Epoch 85/100\n",
      "50000/50000 [==============================] - 9s 186us/step - loss: 0.0893 - accuracy: 0.9713 - val_loss: 3.8245 - val_accuracy: 0.5256\n",
      "Epoch 86/100\n",
      "50000/50000 [==============================] - 9s 188us/step - loss: 0.0704 - accuracy: 0.9765 - val_loss: 3.8811 - val_accuracy: 0.5294\n",
      "Epoch 87/100\n",
      "50000/50000 [==============================] - 9s 170us/step - loss: 0.0699 - accuracy: 0.9774 - val_loss: 3.9915 - val_accuracy: 0.5215\n",
      "Epoch 88/100\n",
      "50000/50000 [==============================] - 9s 173us/step - loss: 0.0828 - accuracy: 0.9729 - val_loss: 3.8332 - val_accuracy: 0.5256\n",
      "Epoch 89/100\n",
      "50000/50000 [==============================] - 8s 170us/step - loss: 0.0831 - accuracy: 0.9734 - val_loss: 3.7605 - val_accuracy: 0.5252\n",
      "Epoch 90/100\n",
      "50000/50000 [==============================] - 8s 164us/step - loss: 0.0665 - accuracy: 0.9784 - val_loss: 3.9180 - val_accuracy: 0.5252\n",
      "Epoch 91/100\n",
      "50000/50000 [==============================] - 8s 164us/step - loss: 0.0684 - accuracy: 0.9785 - val_loss: 3.8914 - val_accuracy: 0.5267\n",
      "Epoch 92/100\n",
      "50000/50000 [==============================] - 8s 164us/step - loss: 0.0802 - accuracy: 0.9742 - val_loss: 3.9176 - val_accuracy: 0.5315\n",
      "Epoch 93/100\n",
      "50000/50000 [==============================] - 8s 164us/step - loss: 0.0721 - accuracy: 0.9771 - val_loss: 3.8228 - val_accuracy: 0.5277\n",
      "Epoch 94/100\n",
      "50000/50000 [==============================] - 8s 166us/step - loss: 0.0776 - accuracy: 0.9750 - val_loss: 3.7352 - val_accuracy: 0.5326\n",
      "Epoch 95/100\n",
      "50000/50000 [==============================] - 8s 163us/step - loss: 0.0646 - accuracy: 0.9789 - val_loss: 3.9304 - val_accuracy: 0.5300\n",
      "Epoch 96/100\n",
      "50000/50000 [==============================] - 8s 167us/step - loss: 0.0730 - accuracy: 0.9767 - val_loss: 3.8173 - val_accuracy: 0.5287\n",
      "Epoch 97/100\n",
      "50000/50000 [==============================] - 8s 164us/step - loss: 0.0660 - accuracy: 0.9781 - val_loss: 3.9104 - val_accuracy: 0.5257\n",
      "Epoch 98/100\n",
      "50000/50000 [==============================] - 8s 164us/step - loss: 0.0676 - accuracy: 0.9790 - val_loss: 3.9134 - val_accuracy: 0.5310\n",
      "Epoch 99/100\n",
      "50000/50000 [==============================] - 8s 163us/step - loss: 0.0635 - accuracy: 0.9799 - val_loss: 3.9679 - val_accuracy: 0.5311\n",
      "Epoch 100/100\n",
      "50000/50000 [==============================] - 8s 166us/step - loss: 0.0730 - accuracy: 0.9772 - val_loss: 3.9271 - val_accuracy: 0.5245\n"
     ]
    },
    {
     "data": {
      "text/plain": [
       "<keras.callbacks.callbacks.History at 0x1b10ee796c8>"
      ]
     },
     "execution_count": 13,
     "metadata": {},
     "output_type": "execute_result"
    }
   ],
   "source": [
    "model.fit(x_train, y_train, \n",
    "          epochs=EPOCHS, \n",
    "          batch_size=BATCH_SIZE, \n",
    "          validation_data=(x_test, y_test), \n",
    "          shuffle=True)"
   ]
  },
  {
   "cell_type": "code",
   "execution_count": 14,
   "metadata": {},
   "outputs": [
    {
     "data": {
      "image/png": "[encoded data removed]",
      "text/plain": [
       "<Figure size 432x288 with 1 Axes>"
      ]
     },
     "metadata": {
      "needs_background": "light"
     },
     "output_type": "display_data"
    },
    {
     "data": {
      "image/png": "[encoded data removed]",
      "text/plain": [
       "<Figure size 432x288 with 1 Axes>"
      ]
     },
     "metadata": {
      "needs_background": "light"
     },
     "output_type": "display_data"
    }
   ],
   "source": [
    "import matplotlib.pyplot as plt\n",
    "\n",
    "\n",
    "train_loss = model.history.history[\"loss\"]\n",
    "valid_loss = model.history.history[\"val_loss\"]\n",
    "\n",
    "train_acc = model.history.history[\"accuracy\"]\n",
    "valid_acc = model.history.history[\"val_accuracy\"]\n",
    "\n",
    "plt.plot(range(len(train_loss)), train_loss, label=\"train loss\")\n",
    "plt.plot(range(len(valid_loss)), valid_loss, label=\"valid loss\")\n",
    "plt.legend()\n",
    "plt.title(\"Loss\")\n",
    "plt.show()\n",
    "\n",
    "plt.plot(range(len(train_acc)), train_acc, label=\"train accuracy\")\n",
    "plt.plot(range(len(valid_acc)), valid_acc, label=\"valid accuracy\")\n",
    "plt.legend()\n",
    "plt.title(\"Accuracy\")\n",
    "plt.show()"
   ]
  },
  {
   "cell_type": "code",
   "execution_count": null,
   "metadata": {},
   "outputs": [],
   "source": []
  }
 ],
 "metadata": {
  "kernelspec": {
   "display_name": "Python 3",
   "language": "python",
   "name": "python3"
  },
  "language_info": {
   "codemirror_mode": {
    "name": "ipython",
    "version": 3
   },
   "file_extension": ".py",
   "mimetype": "text/x-python",
   "name": "python",
   "nbconvert_exporter": "python",
   "pygments_lexer": "ipython3",
   "version": "3.7.4"
  }
 },
 "nbformat": 4,
 "nbformat_minor": 2
}
