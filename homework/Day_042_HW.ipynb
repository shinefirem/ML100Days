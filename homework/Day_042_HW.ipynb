{
 "cells": [
  {
   "cell_type": "markdown",
   "metadata": {},
   "source": [
    "## [作業重點]\n",
    "目前你應該已經要很清楚資料集中，資料的型態是什麼樣子囉！包含特徵 (features) 與標籤 (labels)。因此要記得未來不管什麼專案，必須要把資料清理成相同的格式，才能送進模型訓練。\n",
    "今天的作業開始踏入決策樹這個非常重要的模型，請務必確保你理解模型中每個超參數的意思，並試著調整看看，對最終預測結果的影響為何"
   ]
  },
  {
   "cell_type": "markdown",
   "metadata": {},
   "source": [
    "## 作業\n",
    "\n",
    "1. 試著調整 DecisionTreeClassifier(...) 中的參數，並觀察是否會改變結果？\n",
    "2. 改用其他資料集 (boston, wine)，並與回歸模型的結果進行比較"
   ]
  },
  {
   "cell_type": "code",
   "execution_count": 1,
   "metadata": {},
   "outputs": [],
   "source": [
    "from sklearn import datasets, metrics\n",
    "from sklearn.tree import DecisionTreeClassifier, DecisionTreeRegressor\n",
    "from sklearn.model_selection import train_test_split"
   ]
  },
  {
   "cell_type": "markdown",
   "metadata": {},
   "source": [
    "### 鳶尾花資料集"
   ]
  },
  {
   "cell_type": "code",
   "execution_count": 2,
   "metadata": {},
   "outputs": [],
   "source": [
    "# 讀取資料\n",
    "iris = datasets.load_iris()\n",
    "x_train, x_test, y_train, y_test = train_test_split(iris.data, iris.target, test_size=0.25, random_state=4)"
   ]
  },
  {
   "cell_type": "code",
   "execution_count": 3,
   "metadata": {},
   "outputs": [
    {
     "name": "stdout",
     "output_type": "stream",
     "text": [
      "Acuuracy: 0.9736842105263158\n",
      "sepal length (cm) - 0.017965992941931345\n",
      "sepal width (cm) - 0.0\n",
      "petal length (cm) - 0.522291342258947\n",
      "petal width (cm) - 0.4597426647991217\n"
     ]
    }
   ],
   "source": [
    "# 決策樹分類器(預設超參數)\n",
    "clf = DecisionTreeClassifier()\n",
    "clf.fit(x_train, y_train)\n",
    "y_pred = clf.predict(x_test)\n",
    "acc = metrics.accuracy_score(y_test, y_pred)\n",
    "print(f\"Acuuracy: {acc}\")\n",
    "for feature, importance in zip(iris.feature_names, clf.feature_importances_):\n",
    "    print(f\"{feature} - {importance}\")"
   ]
  },
  {
   "cell_type": "code",
   "execution_count": 5,
   "metadata": {},
   "outputs": [
    {
     "name": "stdout",
     "output_type": "stream",
     "text": [
      "Acuuracy: 0.9736842105263158\n",
      "sepal length (cm) - 0.01560620187870998\n",
      "sepal width (cm) - 0.0\n",
      "petal length (cm) - 0.07501716294579418\n",
      "petal width (cm) - 0.9093766351754958\n"
     ]
    }
   ],
   "source": [
    "# 決策樹分類器(criterion='entropy')\n",
    "clf = DecisionTreeClassifier(criterion='entropy')\n",
    "clf.fit(x_train, y_train)\n",
    "y_pred = clf.predict(x_test)\n",
    "acc = metrics.accuracy_score(y_test, y_pred)\n",
    "print(f\"Acuuracy: {acc}\")\n",
    "for feature, importance in zip(iris.feature_names, clf.feature_importances_):\n",
    "    print(f\"{feature} - {importance}\")"
   ]
  },
  {
   "cell_type": "code",
   "execution_count": 6,
   "metadata": {},
   "outputs": [
    {
     "name": "stdout",
     "output_type": "stream",
     "text": [
      "Acuuracy: 0.9736842105263158\n",
      "sepal length (cm) - 0.0\n",
      "sepal width (cm) - 0.0\n",
      "petal length (cm) - 0.03953519962361139\n",
      "petal width (cm) - 0.9604648003763887\n"
     ]
    }
   ],
   "source": [
    "# 決策樹分類器(min_samples_leaf = 5)\n",
    "clf = DecisionTreeClassifier(min_samples_leaf = 5)\n",
    "clf.fit(x_train, y_train)\n",
    "y_pred = clf.predict(x_test)\n",
    "acc = metrics.accuracy_score(y_test, y_pred)\n",
    "print(f\"Acuuracy: {acc}\")\n",
    "for feature, importance in zip(iris.feature_names, clf.feature_importances_):\n",
    "    print(f\"{feature} - {importance}\")"
   ]
  },
  {
   "cell_type": "markdown",
   "metadata": {},
   "source": [
    "### Boston資料集"
   ]
  },
  {
   "cell_type": "code",
   "execution_count": 7,
   "metadata": {},
   "outputs": [],
   "source": [
    "# 讀取資料\n",
    "boston = datasets.load_boston()\n",
    "x_train, x_test, y_train, y_test = train_test_split(boston.data, boston.target, test_size=0.25, random_state=4)"
   ]
  },
  {
   "cell_type": "code",
   "execution_count": 11,
   "metadata": {},
   "outputs": [
    {
     "name": "stdout",
     "output_type": "stream",
     "text": [
      "MSE: 30.74448818897638\n",
      "CRIM - 0.06510927762581185\n",
      "ZN - 0.0014281278518604073\n",
      "INDUS - 0.0014342964341626716\n",
      "CHAS - 0.009734988538214306\n",
      "NOX - 0.030793061494979096\n",
      "RM - 0.5440198015969876\n",
      "AGE - 0.014417615158382956\n",
      "DIS - 0.059054275757724525\n",
      "RAD - 0.0059174498878867944\n",
      "TAX - 0.01254643351649498\n",
      "PTRATIO - 0.02467830219214734\n",
      "B - 0.00848046943581101\n",
      "LSTAT - 0.22238590050953655\n"
     ]
    }
   ],
   "source": [
    "# 決策樹迴歸器\n",
    "reg = DecisionTreeRegressor()\n",
    "reg.fit(x_train, y_train)\n",
    "y_pred = reg.predict(x_test)\n",
    "mse = metrics.mean_squared_error(y_test, y_pred)\n",
    "print(f\"MSE: {mse}\")\n",
    "for feature, importance in zip(boston.feature_names, reg.feature_importances_):\n",
    "    print(f\"{feature} - {importance}\")"
   ]
  },
  {
   "cell_type": "code",
   "execution_count": 13,
   "metadata": {},
   "outputs": [
    {
     "name": "stdout",
     "output_type": "stream",
     "text": [
      "MSE: 24.70692913385827\n",
      "CRIM - 0.10090234440883783\n",
      "ZN - 0.005397200202394999\n",
      "INDUS - 0.017034913138809237\n",
      "CHAS - 0.0027407657277787106\n",
      "NOX - 0.042587282847023074\n",
      "RM - 0.29773148928993043\n",
      "AGE - 0.028883454208129496\n",
      "DIS - 0.06978411199190417\n",
      "RAD - 0.024287400910777506\n",
      "TAX - 0.02099848203744308\n",
      "PTRATIO - 0.026480013493000477\n",
      "B - 0.02264294147411027\n",
      "LSTAT - 0.3405296002698605\n"
     ]
    }
   ],
   "source": [
    "# 決策樹迴歸器\n",
    "reg = DecisionTreeRegressor(criterion=\"mae\")\n",
    "reg.fit(x_train, y_train)\n",
    "y_pred = reg.predict(x_test)\n",
    "mse = metrics.mean_squared_error(y_test, y_pred)\n",
    "print(f\"MSE: {mse}\")\n",
    "for feature, importance in zip(boston.feature_names, reg.feature_importances_):\n",
    "    print(f\"{feature} - {importance}\")"
   ]
  },
  {
   "cell_type": "code",
   "execution_count": null,
   "metadata": {},
   "outputs": [],
   "source": []
  }
 ],
 "metadata": {
  "kernelspec": {
   "display_name": "Python 3",
   "language": "python",
   "name": "python3"
  },
  "language_info": {
   "codemirror_mode": {
    "name": "ipython",
    "version": 3
   },
   "file_extension": ".py",
   "mimetype": "text/x-python",
   "name": "python",
   "nbconvert_exporter": "python",
   "pygments_lexer": "ipython3",
   "version": "3.7.4"
  }
 },
 "nbformat": 4,
 "nbformat_minor": 2
}
