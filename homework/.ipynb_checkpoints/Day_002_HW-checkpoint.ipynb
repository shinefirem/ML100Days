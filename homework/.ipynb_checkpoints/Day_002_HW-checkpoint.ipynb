{
 "cells": [
  {
   "cell_type": "markdown",
   "metadata": {},
   "source": [
    "## [作業目標]\n",
    "了解機器學習適合應用的領域與範疇。"
   ]
  },
  {
   "cell_type": "markdown",
   "metadata": {},
   "source": [
    "## [作業重點]\n",
    "透過瞭解機器學習的運作方式，找出非常適用機器學習應用的領域及其原因"
   ]
  },
  {
   "cell_type": "markdown",
   "metadata": {},
   "source": [
    "## 作業\n",
    "請找出一個你認為機器學習可以發光發熱的領域並闡述原因? "
   ]
  },
  {
   "cell_type": "markdown",
   "metadata": {},
   "source": [
    "機器學習可以運用在交通領域，現今自駕車的運用上就是很好的例子，主要原因包含以下幾點\n",
    "\n",
    "* 交通係為不同用路人進行旅次時互動所產生的情況，也因此每個人駕駛的行為不同都會產生影響，變數幾乎無窮無盡難以定義，有時也很難找到定性的規則加以套用分析，這時機器學習的運用可以帶給管理、執法者進行政策的參考。\n",
    "\n",
    "* 以台灣而言交通資料漸趨完整，不僅高速公路局有提供高速公路的公開資料，公路總局與各地縣市政府也都因應交控系統的建置進行相應設備的裝設與資料撈取，除此之外還有CCTV能夠提供影像資料，這些龐大的資料會是機器學習應用上很大的資源。\n",
    "\n",
    "* 現今智慧型交控系統已經是台灣交通邁入下一個階段的重點，機器學習等技術相信能夠成為其中輔助的工具。\n",
    "\n",
    "鑑於以上原因，我認為交通係為機器學習可以產生影響力的領域。"
   ]
  }
 ],
 "metadata": {
  "kernelspec": {
   "display_name": "Python 3",
   "language": "python",
   "name": "python3"
  },
  "language_info": {
   "codemirror_mode": {
    "name": "ipython",
    "version": 3
   },
   "file_extension": ".py",
   "mimetype": "text/x-python",
   "name": "python",
   "nbconvert_exporter": "python",
   "pygments_lexer": "ipython3",
   "version": "3.7.4"
  }
 },
 "nbformat": 4,
 "nbformat_minor": 2
}
